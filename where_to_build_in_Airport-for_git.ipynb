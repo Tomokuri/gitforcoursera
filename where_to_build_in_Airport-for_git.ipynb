{
 "cells": [
  {
   "cell_type": "markdown",
   "metadata": {},
   "source": [
    "# Capstone Project - The Battle of the Neighborhoods (Week 2)\n",
    "### Applied Data Science Capstone by IBM/Coursera"
   ]
  },
  {
   "cell_type": "markdown",
   "metadata": {},
   "source": [
    "## Table of contents\n",
    "* [Introduction: Business Problem](#introduction)\n",
    "* [Data](#data)\n",
    "* [Methodology](#methodology)\n",
    "* [Analysis](#analysis)\n",
    "* [Results and Discussion](#results)\n",
    "* [Conclusion](#conclusion)"
   ]
  },
  {
   "cell_type": "markdown",
   "metadata": {},
   "source": [
    "## Introduction: Business Problem <a name=\"introduction\"></a>"
   ]
  },
  {
   "cell_type": "markdown",
   "metadata": {},
   "source": [
    "### [Business Problem] \n",
    "Which Airport to build a new restaurant? \n",
    "\n",
    "### [Background]\n",
    "I am a manager to plan the new Japanese authentic restaurant. \n",
    "These days, I am instructed by the boss to plan the restaurant for 'inbound tourist'. \n",
    "Because they're increasing year by year, in 2018 inbound tourist is over 40 million a year. \n",
    "So at first I will plan a new restaurant at the airport which is the first and last touch point in their trip. \n",
    "I have to choose the airport on the basis of several data about tourist and airport."
   ]
  },
  {
   "cell_type": "markdown",
   "metadata": {},
   "source": [
    "## Data <a name=\"data\"></a>"
   ]
  },
  {
   "cell_type": "markdown",
   "metadata": {},
   "source": [
    "1.Immigration and Emigration number  \n",
    "        Source: Immigration Statics by Minister of Justice  \n",
    "            http://www.moj.go.jp/housei/toukei/toukei_ichiran_nyukan.html  \n",
    "  \n",
    "2.Total tour unit cost in Japan  \n",
    "        Source:Consumption Trends of International Visitors to Japan Survey  \n",
    "        http://www.mlit.go.jp/kankocho/siryou/toukei/shouhidoukou.html  \n",
    "  \n",
    "3.Airport position(longitude and latitude)  \n",
    "        Source: Airport GIS data by Ministry of Land, Infrastructure and Transport  \n",
    "        http://nlftp.mlit.go.jp/ksj/gml/datalist/KsjTmplt-N08.html  "
   ]
  },
  {
   "cell_type": "markdown",
   "metadata": {},
   "source": [
    "## Methodology <a name=\"methodology\"></a>"
   ]
  },
  {
   "cell_type": "markdown",
   "metadata": {},
   "source": [
    "1.Comparison of \"Emmigraion\" figure by each airport and Year-on-year difference(2018vs.2017).  \n",
    "2.Comparison of \"Travel Unit Cost\" by each airport and Year-on-year difference(2018vs.2017).  \n",
    "3.Catch the regional specifics and candidate cities by mapping score noted above."
   ]
  },
  {
   "cell_type": "markdown",
   "metadata": {},
   "source": [
    "## Analysis <a name=\"analysis\"></a>"
   ]
  },
  {
   "cell_type": "code",
   "execution_count": 4,
   "metadata": {},
   "outputs": [],
   "source": [
    "# import the necessary Libraries \n",
    "import csv\n",
    "\n",
    "import matplotlib.pyplot as plt\n",
    "\n",
    "import pandas as pd\n",
    "import numpy as np"
   ]
  },
  {
   "cell_type": "markdown",
   "metadata": {},
   "source": [
    "### 1.Comparison of \"Emmigraion\" figure by each airport and Year-on-year difference(2018vs.2017)."
   ]
  },
  {
   "cell_type": "markdown",
   "metadata": {},
   "source": [
    "Import the emmigration data by csv file edit by data source noted at \"Data\""
   ]
  },
  {
   "cell_type": "code",
   "execution_count": 5,
   "metadata": {
    "scrolled": false
   },
   "outputs": [],
   "source": [
    "df_Emmigra  = pd.read_csv('/Users/****/desktop/Emmigration.csv', encoding=\"sjis\", skipfooter=2, engine='python')"
   ]
  },
  {
   "cell_type": "markdown",
   "metadata": {},
   "source": [
    "Add the year on year changes(2018-2017)."
   ]
  },
  {
   "cell_type": "code",
   "execution_count": 7,
   "metadata": {},
   "outputs": [],
   "source": [
    "df_Emmigra['2018-2017'] = df_Emmigra['2018'] - df_Emmigra['2017']"
   ]
  },
  {
   "cell_type": "code",
   "execution_count": null,
   "metadata": {},
   "outputs": [],
   "source": [
    "#### Emmigraion by Airport in Japan 2017-2018"
   ]
  },
  {
   "cell_type": "code",
   "execution_count": 8,
   "metadata": {
    "scrolled": true
   },
   "outputs": [
    {
     "data": {
      "text/html": [
       "<div>\n",
       "<style scoped>\n",
       "    .dataframe tbody tr th:only-of-type {\n",
       "        vertical-align: middle;\n",
       "    }\n",
       "\n",
       "    .dataframe tbody tr th {\n",
       "        vertical-align: top;\n",
       "    }\n",
       "\n",
       "    .dataframe thead th {\n",
       "        text-align: right;\n",
       "    }\n",
       "</style>\n",
       "<table border=\"1\" class=\"dataframe\">\n",
       "  <thead>\n",
       "    <tr style=\"text-align: right;\">\n",
       "      <th></th>\n",
       "      <th>Airport</th>\n",
       "      <th>2017</th>\n",
       "      <th>2018</th>\n",
       "      <th>2018-2017</th>\n",
       "    </tr>\n",
       "  </thead>\n",
       "  <tbody>\n",
       "    <tr>\n",
       "      <th>0</th>\n",
       "      <td>Narita</td>\n",
       "      <td>7616063</td>\n",
       "      <td>8543597</td>\n",
       "      <td>927534</td>\n",
       "    </tr>\n",
       "    <tr>\n",
       "      <th>1</th>\n",
       "      <td>Kansai</td>\n",
       "      <td>7125275</td>\n",
       "      <td>7601739</td>\n",
       "      <td>476464</td>\n",
       "    </tr>\n",
       "    <tr>\n",
       "      <th>2</th>\n",
       "      <td>Haneda</td>\n",
       "      <td>3731748</td>\n",
       "      <td>4036119</td>\n",
       "      <td>304371</td>\n",
       "    </tr>\n",
       "    <tr>\n",
       "      <th>3</th>\n",
       "      <td>Fukuoka</td>\n",
       "      <td>2194443</td>\n",
       "      <td>2422580</td>\n",
       "      <td>228137</td>\n",
       "    </tr>\n",
       "    <tr>\n",
       "      <th>4</th>\n",
       "      <td>Naha</td>\n",
       "      <td>1616946</td>\n",
       "      <td>1748887</td>\n",
       "      <td>131941</td>\n",
       "    </tr>\n",
       "    <tr>\n",
       "      <th>5</th>\n",
       "      <td>Shin_Chitose</td>\n",
       "      <td>1473681</td>\n",
       "      <td>1676669</td>\n",
       "      <td>202988</td>\n",
       "    </tr>\n",
       "    <tr>\n",
       "      <th>6</th>\n",
       "      <td>Chubu</td>\n",
       "      <td>1262179</td>\n",
       "      <td>1375707</td>\n",
       "      <td>113528</td>\n",
       "    </tr>\n",
       "    <tr>\n",
       "      <th>7</th>\n",
       "      <td>Kagoshima</td>\n",
       "      <td>119824</td>\n",
       "      <td>161748</td>\n",
       "      <td>41924</td>\n",
       "    </tr>\n",
       "    <tr>\n",
       "      <th>8</th>\n",
       "      <td>Takamatsu</td>\n",
       "      <td>117354</td>\n",
       "      <td>114163</td>\n",
       "      <td>-3191</td>\n",
       "    </tr>\n",
       "    <tr>\n",
       "      <th>9</th>\n",
       "      <td>Fujisan_Shizuoka</td>\n",
       "      <td>115615</td>\n",
       "      <td>112268</td>\n",
       "      <td>-3347</td>\n",
       "    </tr>\n",
       "    <tr>\n",
       "      <th>10</th>\n",
       "      <td>Sendai</td>\n",
       "      <td>80069</td>\n",
       "      <td>94050</td>\n",
       "      <td>13981</td>\n",
       "    </tr>\n",
       "    <tr>\n",
       "      <th>11</th>\n",
       "      <td>Hiroshima</td>\n",
       "      <td>83188</td>\n",
       "      <td>86703</td>\n",
       "      <td>3515</td>\n",
       "    </tr>\n",
       "  </tbody>\n",
       "</table>\n",
       "</div>"
      ],
      "text/plain": [
       "             Airport     2017     2018  2018-2017\n",
       "0             Narita  7616063  8543597     927534\n",
       "1             Kansai  7125275  7601739     476464\n",
       "2             Haneda  3731748  4036119     304371\n",
       "3            Fukuoka  2194443  2422580     228137\n",
       "4               Naha  1616946  1748887     131941\n",
       "5       Shin_Chitose  1473681  1676669     202988\n",
       "6              Chubu  1262179  1375707     113528\n",
       "7          Kagoshima   119824   161748      41924\n",
       "8          Takamatsu   117354   114163      -3191\n",
       "9   Fujisan_Shizuoka   115615   112268      -3347\n",
       "10            Sendai    80069    94050      13981\n",
       "11         Hiroshima    83188    86703       3515"
      ]
     },
     "execution_count": 8,
     "metadata": {},
     "output_type": "execute_result"
    }
   ],
   "source": [
    "df_Emmigra"
   ]
  },
  {
   "cell_type": "markdown",
   "metadata": {},
   "source": [
    "Bar graph sortrd year on year changes Emmigraion by Airport in Japan 2017-2018 "
   ]
  },
  {
   "cell_type": "code",
   "execution_count": 33,
   "metadata": {},
   "outputs": [
    {
     "name": "stdout",
     "output_type": "stream",
     "text": [
      "True\n"
     ]
    },
    {
     "data": {
      "image/png": "[encoded data removed]",
      "text/plain": [
       "<Figure size 432x288 with 1 Axes>"
      ]
     },
     "metadata": {
      "needs_background": "light"
     },
     "output_type": "display_data"
    },
    {
     "data": {
      "text/html": [
       "<div>\n",
       "<style scoped>\n",
       "    .dataframe tbody tr th:only-of-type {\n",
       "        vertical-align: middle;\n",
       "    }\n",
       "\n",
       "    .dataframe tbody tr th {\n",
       "        vertical-align: top;\n",
       "    }\n",
       "\n",
       "    .dataframe thead th {\n",
       "        text-align: right;\n",
       "    }\n",
       "</style>\n",
       "<table border=\"1\" class=\"dataframe\">\n",
       "  <thead>\n",
       "    <tr style=\"text-align: right;\">\n",
       "      <th></th>\n",
       "      <th>Airport</th>\n",
       "      <th>2018-2017</th>\n",
       "      <th>2018</th>\n",
       "    </tr>\n",
       "  </thead>\n",
       "  <tbody>\n",
       "    <tr>\n",
       "      <th>0</th>\n",
       "      <td>Narita</td>\n",
       "      <td>927534</td>\n",
       "      <td>8543597</td>\n",
       "    </tr>\n",
       "    <tr>\n",
       "      <th>1</th>\n",
       "      <td>Kansai</td>\n",
       "      <td>476464</td>\n",
       "      <td>7601739</td>\n",
       "    </tr>\n",
       "    <tr>\n",
       "      <th>2</th>\n",
       "      <td>Haneda</td>\n",
       "      <td>304371</td>\n",
       "      <td>4036119</td>\n",
       "    </tr>\n",
       "    <tr>\n",
       "      <th>3</th>\n",
       "      <td>Fukuoka</td>\n",
       "      <td>228137</td>\n",
       "      <td>2422580</td>\n",
       "    </tr>\n",
       "    <tr>\n",
       "      <th>5</th>\n",
       "      <td>Shin_Chitose</td>\n",
       "      <td>202988</td>\n",
       "      <td>1676669</td>\n",
       "    </tr>\n",
       "    <tr>\n",
       "      <th>4</th>\n",
       "      <td>Naha</td>\n",
       "      <td>131941</td>\n",
       "      <td>1748887</td>\n",
       "    </tr>\n",
       "    <tr>\n",
       "      <th>6</th>\n",
       "      <td>Chubu</td>\n",
       "      <td>113528</td>\n",
       "      <td>1375707</td>\n",
       "    </tr>\n",
       "    <tr>\n",
       "      <th>7</th>\n",
       "      <td>Kagoshima</td>\n",
       "      <td>41924</td>\n",
       "      <td>161748</td>\n",
       "    </tr>\n",
       "    <tr>\n",
       "      <th>10</th>\n",
       "      <td>Sendai</td>\n",
       "      <td>13981</td>\n",
       "      <td>94050</td>\n",
       "    </tr>\n",
       "    <tr>\n",
       "      <th>11</th>\n",
       "      <td>Hiroshima</td>\n",
       "      <td>3515</td>\n",
       "      <td>86703</td>\n",
       "    </tr>\n",
       "    <tr>\n",
       "      <th>8</th>\n",
       "      <td>Takamatsu</td>\n",
       "      <td>-3191</td>\n",
       "      <td>114163</td>\n",
       "    </tr>\n",
       "    <tr>\n",
       "      <th>9</th>\n",
       "      <td>Fujisan_Shizuoka</td>\n",
       "      <td>-3347</td>\n",
       "      <td>112268</td>\n",
       "    </tr>\n",
       "  </tbody>\n",
       "</table>\n",
       "</div>"
      ],
      "text/plain": [
       "             Airport  2018-2017     2018\n",
       "0             Narita     927534  8543597\n",
       "1             Kansai     476464  7601739\n",
       "2             Haneda     304371  4036119\n",
       "3            Fukuoka     228137  2422580\n",
       "5       Shin_Chitose     202988  1676669\n",
       "4               Naha     131941  1748887\n",
       "6              Chubu     113528  1375707\n",
       "7          Kagoshima      41924   161748\n",
       "10            Sendai      13981    94050\n",
       "11         Hiroshima       3515    86703\n",
       "8          Takamatsu      -3191   114163\n",
       "9   Fujisan_Shizuoka      -3347   112268"
      ]
     },
     "execution_count": 33,
     "metadata": {},
     "output_type": "execute_result"
    }
   ],
   "source": [
    "df_Emmigra_sort = df_Emmigra.sort_values('2018-2017', ascending=False)\n",
    "left1 = df_Emmigra_sort['Airport']\n",
    "height2 = df_Emmigra_sort['2018-2017']\n",
    "\n",
    "fig, ax1 = plt.subplots()\n",
    "ax1.invert_yaxis()\n",
    "ax1.barh(left1, height2, color=\"r\")\n",
    "print(ax1.yaxis_inverted())  \n",
    "\n",
    "plt.show()\n",
    "df_Emmigra_sort[['Airport','2018-2017','2018']]"
   ]
  },
  {
   "cell_type": "markdown",
   "metadata": {},
   "source": [
    "### 2.Comparison of \"Travel Unit Cost\" by each airport and Year-on-year difference(2018vs.2017)."
   ]
  },
  {
   "cell_type": "markdown",
   "metadata": {},
   "source": [
    "Import the Travel Unit Cost data by csv file edit by data source noted at \"Data\""
   ]
  },
  {
   "cell_type": "code",
   "execution_count": 22,
   "metadata": {},
   "outputs": [],
   "source": [
    "df_TUP = pd.read_csv('/Users/****/desktop/TravelUnitPrice.csv', encoding=\"sjis\", skipfooter=2, engine='python')"
   ]
  },
  {
   "cell_type": "markdown",
   "metadata": {},
   "source": [
    "Add the year on year changes(2018-2017)."
   ]
  },
  {
   "cell_type": "code",
   "execution_count": 66,
   "metadata": {
    "scrolled": true
   },
   "outputs": [],
   "source": [
    "df_TUP['2018-2017'] = df_TUP['2018'] - df_TUP['2017']"
   ]
  },
  {
   "cell_type": "markdown",
   "metadata": {},
   "source": [
    "Traveler's Unit Cost by Airport in Japan 2017-2018"
   ]
  },
  {
   "cell_type": "code",
   "execution_count": 67,
   "metadata": {
    "scrolled": true
   },
   "outputs": [
    {
     "data": {
      "text/html": [
       "<div>\n",
       "<style scoped>\n",
       "    .dataframe tbody tr th:only-of-type {\n",
       "        vertical-align: middle;\n",
       "    }\n",
       "\n",
       "    .dataframe tbody tr th {\n",
       "        vertical-align: top;\n",
       "    }\n",
       "\n",
       "    .dataframe thead th {\n",
       "        text-align: right;\n",
       "    }\n",
       "</style>\n",
       "<table border=\"1\" class=\"dataframe\">\n",
       "  <thead>\n",
       "    <tr style=\"text-align: right;\">\n",
       "      <th></th>\n",
       "      <th>Airport</th>\n",
       "      <th>2017</th>\n",
       "      <th>2018</th>\n",
       "      <th>2018-2017</th>\n",
       "    </tr>\n",
       "  </thead>\n",
       "  <tbody>\n",
       "    <tr>\n",
       "      <th>0</th>\n",
       "      <td>Haneda</td>\n",
       "      <td>154287</td>\n",
       "      <td>172155</td>\n",
       "      <td>17868</td>\n",
       "    </tr>\n",
       "    <tr>\n",
       "      <th>1</th>\n",
       "      <td>Narita</td>\n",
       "      <td>154010</td>\n",
       "      <td>159723</td>\n",
       "      <td>5713</td>\n",
       "    </tr>\n",
       "    <tr>\n",
       "      <th>2</th>\n",
       "      <td>Kansai</td>\n",
       "      <td>122031</td>\n",
       "      <td>122017</td>\n",
       "      <td>-14</td>\n",
       "    </tr>\n",
       "    <tr>\n",
       "      <th>3</th>\n",
       "      <td>Fujisan_Shizuoka</td>\n",
       "      <td>173599</td>\n",
       "      <td>118592</td>\n",
       "      <td>-55007</td>\n",
       "    </tr>\n",
       "    <tr>\n",
       "      <th>4</th>\n",
       "      <td>Chubu</td>\n",
       "      <td>115268</td>\n",
       "      <td>117796</td>\n",
       "      <td>2528</td>\n",
       "    </tr>\n",
       "    <tr>\n",
       "      <th>5</th>\n",
       "      <td>Takamatsu</td>\n",
       "      <td>37035</td>\n",
       "      <td>112275</td>\n",
       "      <td>75240</td>\n",
       "    </tr>\n",
       "    <tr>\n",
       "      <th>6</th>\n",
       "      <td>Hiroshima</td>\n",
       "      <td>88725</td>\n",
       "      <td>112236</td>\n",
       "      <td>23511</td>\n",
       "    </tr>\n",
       "    <tr>\n",
       "      <th>7</th>\n",
       "      <td>Shin_Chitose</td>\n",
       "      <td>103295</td>\n",
       "      <td>104099</td>\n",
       "      <td>804</td>\n",
       "    </tr>\n",
       "    <tr>\n",
       "      <th>8</th>\n",
       "      <td>Kagoshima</td>\n",
       "      <td>121616</td>\n",
       "      <td>101473</td>\n",
       "      <td>-20143</td>\n",
       "    </tr>\n",
       "    <tr>\n",
       "      <th>9</th>\n",
       "      <td>Naha</td>\n",
       "      <td>73216</td>\n",
       "      <td>86146</td>\n",
       "      <td>12930</td>\n",
       "    </tr>\n",
       "    <tr>\n",
       "      <th>10</th>\n",
       "      <td>Fukuoka</td>\n",
       "      <td>92663</td>\n",
       "      <td>85090</td>\n",
       "      <td>-7573</td>\n",
       "    </tr>\n",
       "    <tr>\n",
       "      <th>11</th>\n",
       "      <td>Sendai</td>\n",
       "      <td>73410</td>\n",
       "      <td>81910</td>\n",
       "      <td>8500</td>\n",
       "    </tr>\n",
       "  </tbody>\n",
       "</table>\n",
       "</div>"
      ],
      "text/plain": [
       "             Airport    2017    2018  2018-2017\n",
       "0             Haneda  154287  172155      17868\n",
       "1             Narita  154010  159723       5713\n",
       "2             Kansai  122031  122017        -14\n",
       "3   Fujisan_Shizuoka  173599  118592     -55007\n",
       "4              Chubu  115268  117796       2528\n",
       "5          Takamatsu   37035  112275      75240\n",
       "6          Hiroshima   88725  112236      23511\n",
       "7       Shin_Chitose  103295  104099        804\n",
       "8          Kagoshima  121616  101473     -20143\n",
       "9               Naha   73216   86146      12930\n",
       "10           Fukuoka   92663   85090      -7573\n",
       "11            Sendai   73410   81910       8500"
      ]
     },
     "execution_count": 67,
     "metadata": {},
     "output_type": "execute_result"
    }
   ],
   "source": [
    "df_TUP"
   ]
  },
  {
   "cell_type": "markdown",
   "metadata": {},
   "source": [
    "Bar graph sortrd year on year changes Emmigraion by Airport in Japan 2017-2018"
   ]
  },
  {
   "cell_type": "code",
   "execution_count": 75,
   "metadata": {},
   "outputs": [
    {
     "name": "stdout",
     "output_type": "stream",
     "text": [
      "True\n"
     ]
    },
    {
     "data": {
      "image/png": "[encoded data removed]",
      "text/plain": [
       "<Figure size 432x288 with 1 Axes>"
      ]
     },
     "metadata": {
      "needs_background": "light"
     },
     "output_type": "display_data"
    },
    {
     "data": {
      "text/html": [
       "<div>\n",
       "<style scoped>\n",
       "    .dataframe tbody tr th:only-of-type {\n",
       "        vertical-align: middle;\n",
       "    }\n",
       "\n",
       "    .dataframe tbody tr th {\n",
       "        vertical-align: top;\n",
       "    }\n",
       "\n",
       "    .dataframe thead th {\n",
       "        text-align: right;\n",
       "    }\n",
       "</style>\n",
       "<table border=\"1\" class=\"dataframe\">\n",
       "  <thead>\n",
       "    <tr style=\"text-align: right;\">\n",
       "      <th></th>\n",
       "      <th>Airport</th>\n",
       "      <th>2018-2017</th>\n",
       "      <th>2018</th>\n",
       "    </tr>\n",
       "  </thead>\n",
       "  <tbody>\n",
       "    <tr>\n",
       "      <th>5</th>\n",
       "      <td>Takamatsu</td>\n",
       "      <td>75240</td>\n",
       "      <td>112275</td>\n",
       "    </tr>\n",
       "    <tr>\n",
       "      <th>6</th>\n",
       "      <td>Hiroshima</td>\n",
       "      <td>23511</td>\n",
       "      <td>112236</td>\n",
       "    </tr>\n",
       "    <tr>\n",
       "      <th>0</th>\n",
       "      <td>Haneda</td>\n",
       "      <td>17868</td>\n",
       "      <td>172155</td>\n",
       "    </tr>\n",
       "    <tr>\n",
       "      <th>9</th>\n",
       "      <td>Naha</td>\n",
       "      <td>12930</td>\n",
       "      <td>86146</td>\n",
       "    </tr>\n",
       "    <tr>\n",
       "      <th>11</th>\n",
       "      <td>Sendai</td>\n",
       "      <td>8500</td>\n",
       "      <td>81910</td>\n",
       "    </tr>\n",
       "    <tr>\n",
       "      <th>1</th>\n",
       "      <td>Narita</td>\n",
       "      <td>5713</td>\n",
       "      <td>159723</td>\n",
       "    </tr>\n",
       "    <tr>\n",
       "      <th>4</th>\n",
       "      <td>Chubu</td>\n",
       "      <td>2528</td>\n",
       "      <td>117796</td>\n",
       "    </tr>\n",
       "    <tr>\n",
       "      <th>7</th>\n",
       "      <td>Shin_Chitose</td>\n",
       "      <td>804</td>\n",
       "      <td>104099</td>\n",
       "    </tr>\n",
       "    <tr>\n",
       "      <th>2</th>\n",
       "      <td>Kansai</td>\n",
       "      <td>-14</td>\n",
       "      <td>122017</td>\n",
       "    </tr>\n",
       "    <tr>\n",
       "      <th>10</th>\n",
       "      <td>Fukuoka</td>\n",
       "      <td>-7573</td>\n",
       "      <td>85090</td>\n",
       "    </tr>\n",
       "    <tr>\n",
       "      <th>8</th>\n",
       "      <td>Kagoshima</td>\n",
       "      <td>-20143</td>\n",
       "      <td>101473</td>\n",
       "    </tr>\n",
       "    <tr>\n",
       "      <th>3</th>\n",
       "      <td>Fujisan_Shizuoka</td>\n",
       "      <td>-55007</td>\n",
       "      <td>118592</td>\n",
       "    </tr>\n",
       "  </tbody>\n",
       "</table>\n",
       "</div>"
      ],
      "text/plain": [
       "             Airport  2018-2017    2018\n",
       "5          Takamatsu      75240  112275\n",
       "6          Hiroshima      23511  112236\n",
       "0             Haneda      17868  172155\n",
       "9               Naha      12930   86146\n",
       "11            Sendai       8500   81910\n",
       "1             Narita       5713  159723\n",
       "4              Chubu       2528  117796\n",
       "7       Shin_Chitose        804  104099\n",
       "2             Kansai        -14  122017\n",
       "10           Fukuoka      -7573   85090\n",
       "8          Kagoshima     -20143  101473\n",
       "3   Fujisan_Shizuoka     -55007  118592"
      ]
     },
     "execution_count": 75,
     "metadata": {},
     "output_type": "execute_result"
    }
   ],
   "source": [
    "df_TUP_sort = df_TUP.sort_values('2018-2017', ascending=False)\n",
    "left1 = df_TUP_sort['Airport']\n",
    "height2 = df_TUP_sort['2018-2017']\n",
    "\n",
    "fig, ax1 = plt.subplots()\n",
    "ax1.invert_yaxis()\n",
    "ax1.barh(left1, height2, color=\"r\")\n",
    "print(ax1.yaxis_inverted())  \n",
    "\n",
    "plt.show()\n",
    "df_TUP_sort[['Airport','2018-2017','2018']]"
   ]
  },
  {
   "cell_type": "markdown",
   "metadata": {},
   "source": [
    "### 3.Catch the regional specifics and candidate cities by mapping score noted above."
   ]
  },
  {
   "cell_type": "markdown",
   "metadata": {},
   "source": [
    "Install folium"
   ]
  },
  {
   "cell_type": "code",
   "execution_count": 20,
   "metadata": {
    "scrolled": true
   },
   "outputs": [
    {
     "name": "stdout",
     "output_type": "stream",
     "text": [
      "Requirement already satisfied: folium in /anaconda3/lib/python3.7/site-packages (0.10.0)\n",
      "Requirement already satisfied: requests in /anaconda3/lib/python3.7/site-packages (from folium) (2.22.0)\n",
      "Requirement already satisfied: numpy in /anaconda3/lib/python3.7/site-packages (from folium) (1.16.4)\n",
      "Requirement already satisfied: branca>=0.3.0 in /anaconda3/lib/python3.7/site-packages (from folium) (0.3.1)\n",
      "Requirement already satisfied: jinja2>=2.9 in /anaconda3/lib/python3.7/site-packages (from folium) (2.10.1)\n",
      "Requirement already satisfied: idna<2.9,>=2.5 in /anaconda3/lib/python3.7/site-packages (from requests->folium) (2.8)\n",
      "Requirement already satisfied: certifi>=2017.4.17 in /anaconda3/lib/python3.7/site-packages (from requests->folium) (2019.6.16)\n",
      "Requirement already satisfied: urllib3!=1.25.0,!=1.25.1,<1.26,>=1.21.1 in /anaconda3/lib/python3.7/site-packages (from requests->folium) (1.24.2)\n",
      "Requirement already satisfied: chardet<3.1.0,>=3.0.2 in /anaconda3/lib/python3.7/site-packages (from requests->folium) (3.0.4)\n",
      "Requirement already satisfied: six in /anaconda3/lib/python3.7/site-packages (from branca>=0.3.0->folium) (1.12.0)\n",
      "Requirement already satisfied: MarkupSafe>=0.23 in /anaconda3/lib/python3.7/site-packages (from jinja2>=2.9->folium) (1.1.1)\n",
      "Note: you may need to restart the kernel to use updated packages.\n"
     ]
    }
   ],
   "source": [
    "pip install folium"
   ]
  },
  {
   "cell_type": "markdown",
   "metadata": {},
   "source": [
    "Import the Airport Position data by csv file edit by data source noted at \"Data\""
   ]
  },
  {
   "cell_type": "code",
   "execution_count": 23,
   "metadata": {},
   "outputs": [],
   "source": [
    "df_posi = pd.read_csv('/Users/****/desktop/AirportPosition.csv')"
   ]
  },
  {
   "cell_type": "markdown",
   "metadata": {},
   "source": [
    "Merge the dataframe Emmigration and Position data."
   ]
  },
  {
   "cell_type": "code",
   "execution_count": 24,
   "metadata": {
    "scrolled": false
   },
   "outputs": [],
   "source": [
    "df_for_map1 = pd.merge(df_Emmigra, df_posi, how=\"inner\" ,on=\"Airport\")"
   ]
  },
  {
   "cell_type": "markdown",
   "metadata": {},
   "source": [
    "Merge the dataframe Travel Unit Cost and Position data."
   ]
  },
  {
   "cell_type": "code",
   "execution_count": 68,
   "metadata": {},
   "outputs": [],
   "source": [
    "df_for_map2 = pd.merge(df_TUP, df_posi, how=\"inner\" ,on=\"Airport\")"
   ]
  },
  {
   "cell_type": "markdown",
   "metadata": {},
   "source": [
    "By using impoted data, mapping in Japan to catch the regional specifics"
   ]
  },
  {
   "cell_type": "markdown",
   "metadata": {},
   "source": [
    "#### 1)Mapping Airport in Japan"
   ]
  },
  {
   "cell_type": "code",
   "execution_count": 30,
   "metadata": {},
   "outputs": [
    {
     "data": {
      "text/html": [
       "<div style=\"width:100%;\"><div style=\"position:relative;width:100%;height:0;padding-bottom:60%;\"><iframe src=\"data:text/html;charset=utf-8;base64,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\" style=\"position:absolute;width:100%;height:100%;left:0;top:0;border:none !important;\" allowfullscreen webkitallowfullscreen mozallowfullscreen></iframe></div></div>"
      ],
      "text/plain": [
       "<folium.folium.Map at 0x1200e84a8>"
      ]
     },
     "execution_count": 30,
     "metadata": {},
     "output_type": "execute_result"
    }
   ],
   "source": [
    "import folium\n",
    "\n",
    "japan_location = [36, 135]\n",
    "m1 = folium.Map(location=japan_location, zoom_start=5)\n",
    "\n",
    "\n",
    "for i, r in df_for_map1.iterrows():\n",
    "    folium.Marker(\n",
    "        location=[r['latitude'], r['longtude']], \n",
    "        popup=r[\"Airport\"],\n",
    "    ).add_to(m1)\n",
    "\n",
    "m1                                                           "
   ]
  },
  {
   "cell_type": "markdown",
   "metadata": {},
   "source": [
    "#### 2)-1 Mapping Emmigration Airport in Japan"
   ]
  },
  {
   "cell_type": "code",
   "execution_count": 40,
   "metadata": {},
   "outputs": [
    {
     "data": {
      "text/html": [
       "<div style=\"width:100%;\"><div style=\"position:relative;width:100%;height:0;padding-bottom:60%;\"><iframe src=\"data:text/html;charset=utf-8;base64,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\" style=\"position:absolute;width:100%;height:100%;left:0;top:0;border:none !important;\" allowfullscreen webkitallowfullscreen mozallowfullscreen></iframe></div></div>"
      ],
      "text/plain": [
       "<folium.folium.Map at 0x1213b8208>"
      ]
     },
     "execution_count": 40,
     "metadata": {},
     "output_type": "execute_result"
    }
   ],
   "source": [
    "import folium\n",
    "\n",
    "japan_location = [36, 135]\n",
    "m2 = folium.Map(location=japan_location, zoom_start=5)\n",
    "\n",
    "\n",
    "for i, r in df_for_map1.iterrows():\n",
    "    folium.CircleMarker(\n",
    "        location=[r['latitude'], r['longtude']], \n",
    "        radius=r[\"2018\"] / 500000 , \n",
    "        popup=r[\"Airport\"],\n",
    "        color='#3186cc',\n",
    "        fill_color='#3186cc'\n",
    "    ).add_to(m2)\n",
    "\n",
    "m2                                                           "
   ]
  },
  {
   "cell_type": "markdown",
   "metadata": {},
   "source": [
    "#### 2)-2 Mapping Emmigration year on year changes by Airport"
   ]
  },
  {
   "cell_type": "code",
   "execution_count": 74,
   "metadata": {},
   "outputs": [
    {
     "data": {
      "text/html": [
       "<div style=\"width:100%;\"><div style=\"position:relative;width:100%;height:0;padding-bottom:60%;\"><iframe src=\"data:text/html;charset=utf-8;base64,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\" style=\"position:absolute;width:100%;height:100%;left:0;top:0;border:none !important;\" allowfullscreen webkitallowfullscreen mozallowfullscreen></iframe></div></div>"
      ],
      "text/plain": [
       "<folium.folium.Map at 0x12167d390>"
      ]
     },
     "execution_count": 74,
     "metadata": {},
     "output_type": "execute_result"
    }
   ],
   "source": [
    "import folium\n",
    "\n",
    "japan_location = [36, 135]\n",
    "m3 = folium.Map(location=japan_location, zoom_start=5)\n",
    "\n",
    "\n",
    "for i, r in df_for_map1.iterrows():\n",
    "    folium.CircleMarker(\n",
    "        location=[r['latitude'], r['longtude']], \n",
    "        radius=r[\"2018-2017\"] / 30000 , \n",
    "        popup=r[\"Airport\"],\n",
    "        color='#31A3CC',\n",
    "        fill_color='##31A3CC'\n",
    "    ).add_to(m3)\n",
    "\n",
    "m3                                                          "
   ]
  },
  {
   "cell_type": "markdown",
   "metadata": {},
   "source": [
    "#### 3)-1 Mapping Travel Cost  by Airport"
   ]
  },
  {
   "cell_type": "code",
   "execution_count": 59,
   "metadata": {
    "scrolled": true
   },
   "outputs": [
    {
     "data": {
      "text/html": [
       "<div style=\"width:100%;\"><div style=\"position:relative;width:100%;height:0;padding-bottom:60%;\"><iframe src=\"data:text/html;charset=utf-8;base64,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\" style=\"position:absolute;width:100%;height:100%;left:0;top:0;border:none !important;\" allowfullscreen webkitallowfullscreen mozallowfullscreen></iframe></div></div>"
      ],
      "text/plain": [
       "<folium.folium.Map at 0x1215ac0b8>"
      ]
     },
     "execution_count": 59,
     "metadata": {},
     "output_type": "execute_result"
    }
   ],
   "source": [
    "import folium\n",
    "\n",
    "japan_location = [36, 135]\n",
    "m5 = folium.Map(location=japan_location, zoom_start=5)\n",
    "\n",
    "\n",
    "for i, r in df_for_map2.iterrows():\n",
    "    folium.CircleMarker(\n",
    "        location=[r['latitude'], r['longtude']], \n",
    "        radius=r['2018']/10000   , \n",
    "        popup=r[\"Airport\"],\n",
    "        color='#31CC46',\n",
    "        fill_color='#31CC46'\n",
    "    ).add_to(m5)\n",
    "\n",
    "m5"
   ]
  },
  {
   "cell_type": "markdown",
   "metadata": {},
   "source": [
    "#### 3)-2 Mapping Travel Cost  year on year changes by Airport 2018-2017"
   ]
  },
  {
   "cell_type": "code",
   "execution_count": 73,
   "metadata": {
    "scrolled": true
   },
   "outputs": [
    {
     "data": {
      "text/html": [
       "<div style=\"width:100%;\"><div style=\"position:relative;width:100%;height:0;padding-bottom:60%;\"><iframe src=\"data:text/html;charset=utf-8;base64,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\" style=\"position:absolute;width:100%;height:100%;left:0;top:0;border:none !important;\" allowfullscreen webkitallowfullscreen mozallowfullscreen></iframe></div></div>"
      ],
      "text/plain": [
       "<folium.folium.Map at 0x1216580f0>"
      ]
     },
     "execution_count": 73,
     "metadata": {},
     "output_type": "execute_result"
    }
   ],
   "source": [
    "import folium\n",
    "\n",
    "japan_location = [36, 135]\n",
    "m6 = folium.Map(location=japan_location, zoom_start=5)\n",
    "\n",
    "\n",
    "for i, r in df_for_map2.iterrows():\n",
    "    folium.CircleMarker(\n",
    "        location=[r['latitude'], r['longtude']], \n",
    "        radius=r[\"2018-2017\"] / 2500   , \n",
    "        popup=r[\"Airport\"],\n",
    "        color='#31CC86',\n",
    "        fill_color='#31CC86'\n",
    "    ).add_to(m6)\n",
    "\n",
    "m6"
   ]
  },
  {
   "cell_type": "markdown",
   "metadata": {},
   "source": [
    "## Results and Discussion <a name=\"results\"></a>"
   ]
  },
  {
   "cell_type": "markdown",
   "metadata": {},
   "source": [
    "###[Disucussion]\n",
    "### [Results]\n",
    "#### Emmigraiton \n",
    "-Figure  \n",
    "Narita, Haneda, Kansai whare are international airport for world is top3.  \n",
    "  \n",
    "-Year on year changes  \n",
    "Same  as above, Narita, Haneda, Kansai are top3.\n",
    "\n",
    "#### Travel Unit Cost\n",
    "-Figure  \n",
    "Same as Figure Narita, Haneda, Kansai whare are  top3.  \n",
    "Unlike a Emmigration, <b>Fujisan_Shzuoka and Takamatsu</b> are top rank.  \n",
    "  \n",
    "-Year on year changes  \n",
    "<b>Takamatsu, Hiroshima, Haneda</B> are top3.  \n",
    "\n",
    "### [Disucussion]\n",
    "As you may Know and data noted above, Haneda, Narita, Kansai are famous for world.  \n",
    "Therefore those three airport are so competitive.  \n",
    "From Travel Unit cost analysis, Takamatsu and Fujisan_Shizuoka have potential for new reastrant,  \n",
    "because travelars cost is increasing.(It may indicates that rich traveler is increasing.)\n",
    "FYI, From year on year changes Travel Unit Cost mapping, Westside airport are bigger circle than other airport.  \n",
    "We may pre-empt the changing for inbound travelers, by moving Takamatsu airtport. "
   ]
  },
  {
   "cell_type": "markdown",
   "metadata": {},
   "source": [
    "## Conclution <a name=\"Conclution\"></a>"
   ]
  },
  {
   "cell_type": "markdown",
   "metadata": {},
   "source": [
    "I will recomend <b>Takamatsu Airport</b> for candidate airport.\n",
    "\n",
    "[FYI]\n",
    "Takamatsu-city  \n",
    "https://en.wikipedia.org/wiki/Takamatsu,_Kagawa"
   ]
  },
  {
   "cell_type": "markdown",
   "metadata": {},
   "source": []
  }
 ],
 "metadata": {
  "kernelspec": {
   "display_name": "Python 3",
   "language": "python",
   "name": "python3"
  },
  "language_info": {
   "codemirror_mode": {
    "name": "ipython",
    "version": 3
   },
   "file_extension": ".py",
   "mimetype": "text/x-python",
   "name": "python",
   "nbconvert_exporter": "python",
   "pygments_lexer": "ipython3",
   "version": "3.7.3"
  }
 },
 "nbformat": 4,
 "nbformat_minor": 2
}
